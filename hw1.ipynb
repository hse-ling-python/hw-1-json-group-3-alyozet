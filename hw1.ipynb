{
 "cells": [
  {
   "cell_type": "markdown",
   "metadata": {},
   "source": [
    "# ДЗ 1"
   ]
  },
  {
   "cell_type": "markdown",
   "metadata": {},
   "source": [
    "### 1) Сколько твитов в наборе?\n",
    "\n",
    "Создаем список из твитов, считаем его длину"
   ]
  },
  {
   "cell_type": "code",
   "execution_count": 135,
   "metadata": {},
   "outputs": [],
   "source": [
    "%load_ext pycodestyle_magic\n",
    "%pycodestyle_on"
   ]
  },
  {
   "cell_type": "code",
   "execution_count": 137,
   "metadata": {},
   "outputs": [
    {
     "name": "stdout",
     "output_type": "stream",
     "text": [
      "В наборе  2556  твитов\n"
     ]
    }
   ],
   "source": [
    "import json\n",
    "from collections import Counter\n",
    "from pprint import pprint\n",
    "\n",
    "twitter = []\n",
    "with open('hw_3_twitter.json', encoding='utf-8') as f:\n",
    "    for line in f:\n",
    "        twitter.append(json.loads(line))\n",
    "print('В наборе ', len(twitter), ' твитов')"
   ]
  },
  {
   "cell_type": "markdown",
   "metadata": {},
   "source": [
    "### 2) Какой процент твитов составляют удаленные записи? (помеченные как deleted)\n",
    "\n",
    "Проверяем каждый твит на deleted и создаем новый словарь неудаленных твитов"
   ]
  },
  {
   "cell_type": "code",
   "execution_count": 138,
   "metadata": {},
   "outputs": [
    {
     "name": "stdout",
     "output_type": "stream",
     "text": [
      "14.162754303599371  процентов\n"
     ]
    }
   ],
   "source": [
    "nd_twitter = []\n",
    "for tweet in twitter:\n",
    "    if tweet.get('delete') is None:\n",
    "        nd_twitter.append(tweet)\n",
    "print(100 - 100*len(nd_twitter)/len(twitter), ' процентов')"
   ]
  },
  {
   "cell_type": "markdown",
   "metadata": {},
   "source": [
    "### 3) Какие самые популярные языки твитов?\n",
    "создаем каунтер для языков, заполняем его, смотрим"
   ]
  },
  {
   "cell_type": "code",
   "execution_count": 139,
   "metadata": {},
   "outputs": [
    {
     "name": "stdout",
     "output_type": "stream",
     "text": [
      "en, ja, es, ko, th, ar, und, in, pt, fr, "
     ]
    }
   ],
   "source": [
    "langs = Counter()\n",
    "for tweet in nd_twitter:\n",
    "    langs[tweet.get('lang')] += 1\n",
    "for item in langs.most_common(10):\n",
    "    print(item[0], end=', ')"
   ]
  },
  {
   "cell_type": "markdown",
   "metadata": {},
   "source": [
    "### 4) Есть ли твиты от одного и того же пользователя? Если да, то сколько таких пользователей?\n",
    "Делаем каунтер для айди, заполняем его\n",
    "Проверяем есть ли в нем значения больше 1 и считаем сколько их"
   ]
  },
  {
   "cell_type": "code",
   "execution_count": 140,
   "metadata": {},
   "outputs": [
    {
     "name": "stdout",
     "output_type": "stream",
     "text": [
      "такие пользователи есть\n",
      "их  25\n"
     ]
    }
   ],
   "source": [
    "ids = Counter()\n",
    "for tweet in nd_twitter:\n",
    "    ids[tweet.get('user').get('id')] += 1\n",
    "many_tweets = 0\n",
    "for item in ids:\n",
    "    if ids[item] > 1:\n",
    "        many_tweets += 1\n",
    "if many_tweets > 0:\n",
    "    print('такие пользователи есть')\n",
    "print('их ', many_tweets)"
   ]
  },
  {
   "cell_type": "markdown",
   "metadata": {},
   "source": [
    "### 5) Топ-20 хэштегов\n",
    "создаем каунтер хэштегов, заполняем его, выводим самые популярные"
   ]
  },
  {
   "cell_type": "code",
   "execution_count": 141,
   "metadata": {},
   "outputs": [
    {
     "name": "stdout",
     "output_type": "stream",
     "text": [
      "BTS, 방탄소년단, AMAs, 人気投票ガチャ, 태형, 뷔, BTSinChicago, BTSLoveYourselfTour, 오늘의방탄, PledgeForSwachhBharat, MPN, PCAs, V, 시카고1회차공연, เป๊กผลิตโชค, JIMIN, running, NCT, 지민, WajahmuPlastik, "
     ]
    }
   ],
   "source": [
    "hts = Counter()\n",
    "for tweet in nd_twitter:\n",
    "    if tweet.get('entities') is not None:\n",
    "        if tweet.get('entities').get('hashtags') is not None:\n",
    "            for ht in tweet.get('entities').get('hashtags'):\n",
    "                hts[ht.get('text')] += 1\n",
    "for item in hts.most_common(20):\n",
    "    print(item[0], end=', ')"
   ]
  },
  {
   "cell_type": "markdown",
   "metadata": {},
   "source": [
    "### 6) Предобработать тексты оригинальных твитов (не ретвитов) на английском языке (убрать пунктуацию, привести к нижнему регистру) и составить частотный словарь\n",
    "\n",
    "Сначала идут две вспомогательные функции для очищения\n",
    "\n",
    "Потом делается список оригинальных твитов на английском языке\n",
    "\n",
    "Потом делается список слов из этих твитов\n",
    "\n",
    "Потом создается частотный словарь"
   ]
  },
  {
   "cell_type": "code",
   "execution_count": 149,
   "metadata": {},
   "outputs": [
    {
     "name": "stdout",
     "output_type": "stream",
     "text": [
      "[('the', 106), ('to', 79), ('a', 65), ('i', 60), ('and', 57), ('you', 45), ('for', 40), ('is', 40), ('of', 40), ('it', 37)]\n"
     ]
    }
   ],
   "source": [
    "def clear_text(text):\n",
    "    trash_symbols = '!\"#$%&\\'-()*+,./:;<=>?@[\\\\]^_`{|}~«»—'\n",
    "    return text.strip(trash_symbols)\n",
    "\n",
    "\n",
    "def get_words(string_of_text):\n",
    "    good_words = []\n",
    "    for word in string_of_text.split():\n",
    "        candidate = clear_text(word)\n",
    "        if candidate != '':\n",
    "            candidate = candidate.lower()\n",
    "            good_words.append(candidate)\n",
    "    return good_words\n",
    "\n",
    "\n",
    "or_tweets = []\n",
    "for tweet in nd_twitter:\n",
    "    en = (tweet.get('lang') == 'en')\n",
    "    rs = (tweet.get('retweeted_status') is None)\n",
    "    qs = (tweet.get('quoted_status') is None)\n",
    "    if rs and qs and en:\n",
    "        or_tweets.append(tweet)\n",
    "\n",
    "words = []\n",
    "for tweet in or_tweets:\n",
    "    words.extend(get_words(tweet.get('text')))\n",
    "\n",
    "wordc = Counter()\n",
    "for word in words:\n",
    "    wordc[word] += 1\n",
    "print(wordc.most_common(10))"
   ]
  },
  {
   "cell_type": "markdown",
   "metadata": {},
   "source": [
    "### 7) Найти количество подписчиков (фолловеров) у авторов твитов и вывести топ-10\n",
    "\n",
    "создаем словарь, где ключи -- айди пользователя, значения -- кол-во подписчиков  \n",
    "выводим самых популярных"
   ]
  },
  {
   "cell_type": "code",
   "execution_count": 146,
   "metadata": {},
   "outputs": [
    {
     "name": "stdout",
     "output_type": "stream",
     "text": [
      "количество подписчиков у самых популярных авторов:\n",
      "2521403, 1491309, 1206759, 1137374, 625463, 392472, 383698, 374222, 318189, 311319, "
     ]
    }
   ],
   "source": [
    "fol_dict = Counter()\n",
    "for tweet in nd_twitter:\n",
    "    name = tweet.get('user').get('id')\n",
    "    followers = tweet.get('user').get('followers_count')\n",
    "    fol_dict[name] = followers\n",
    "print('количество подписчиков у самых популярных авторов:')\n",
    "for i in fol_dict.most_common(10):\n",
    "    print(i[1], end=', ')"
   ]
  },
  {
   "cell_type": "markdown",
   "metadata": {},
   "source": [
    "### 8) Топ-10 источников твита (из какого приложения написан)  \n",
    "создаем каунтер для источников твита, которые вырезаем с помощую регулярок, выводим самые популярные"
   ]
  },
  {
   "cell_type": "code",
   "execution_count": 147,
   "metadata": {},
   "outputs": [
    {
     "name": "stdout",
     "output_type": "stream",
     "text": [
      "Twitter for iPhone, Twitter for Android, Twitter Web Client, twittbot.net, Twitter Lite, Twitter for iPad, TweetDeck, Facebook, IFTTT, تطبيق قرآني, "
     ]
    }
   ],
   "source": [
    "import re\n",
    "sources = Counter()\n",
    "for tweet in nd_twitter:\n",
    "    src = tweet.get('source')\n",
    "    name = re.search('>(.*?)<', src).group(1)\n",
    "    sources[name] += 1\n",
    "for i in sources.most_common(10):\n",
    "    print(i[0], end=', ')"
   ]
  },
  {
   "cell_type": "code",
   "execution_count": null,
   "metadata": {},
   "outputs": [],
   "source": []
  }
 ],
 "metadata": {
  "kernelspec": {
   "display_name": "Python 3",
   "language": "python",
   "name": "python3"
  },
  "language_info": {
   "codemirror_mode": {
    "name": "ipython",
    "version": 3
   },
   "file_extension": ".py",
   "mimetype": "text/x-python",
   "name": "python",
   "nbconvert_exporter": "python",
   "pygments_lexer": "ipython3",
   "version": "3.7.4"
  }
 },
 "nbformat": 4,
 "nbformat_minor": 2
}
